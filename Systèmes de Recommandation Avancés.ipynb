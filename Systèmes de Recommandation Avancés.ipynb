{
 "cells": [
  {
   "cell_type": "markdown",
   "id": "e46a091f-4f14-48ee-bdb6-064d6c58650c",
   "metadata": {},
   "source": [
    "# Mise en place d’un système de recommandation basé sur SVD"
   ]
  },
  {
   "cell_type": "markdown",
   "id": "c96f5bac-3c77-4d8c-b24e-440e2fc0c8f3",
   "metadata": {},
   "source": [
    "## Partie 1 : Préparation des données\n",
    "\n",
    "#### 1. Chargement et exploration des données"
   ]
  },
  {
   "cell_type": "code",
   "execution_count": 15,
   "id": "816bf554-36e5-499f-9fdb-724f5d1072eb",
   "metadata": {},
   "outputs": [
    {
     "name": "stdout",
     "output_type": "stream",
     "text": [
      "   userId  movieId  rating  timestamp\n",
      "0       1        1     4.0  964982703\n",
      "1       1        3     4.0  964981247\n",
      "2       1        6     4.0  964982224\n",
      "3       1       47     5.0  964983815\n",
      "4       1       50     5.0  964982931\n",
      "Training data size: 60501\n",
      "Validation data size: 20167\n",
      "Test data size: 20168\n"
     ]
    }
   ],
   "source": [
    "import pandas as pd\n",
    "import zipfile\n",
    "import io\n",
    "import requests\n",
    "from sklearn.model_selection import train_test_split\n",
    "\n",
    "# a. Téléchargez les données MovieLens disponibles à l’URL suivante :\n",
    "url = \"https://files.grouplens.org/datasets/movielens/ml-latest-small.zip\"\n",
    "response = requests.get(url)\n",
    "zip_file = zipfile.ZipFile(io.BytesIO(response.content))\n",
    "\n",
    "# b. Chargez le fichier ratings.csv dans un DataFrame pandas.\n",
    "with zip_file.open(\"ml-latest-small/ratings.csv\") as file:\n",
    "    ratings_df = pd.read_csv(file)\n",
    "\n",
    "# c. Affichez les cinq premières lignes du DataFrame.\n",
    "print(ratings_df.head())\n",
    "\n",
    "# d. Décrivez brièvement les colonnes suivantes :\n",
    "# - userId : Identifiant unique de l'utilisateur\n",
    "# - movieId : Identifiant unique du film\n",
    "# - rating : Note donnée par l'utilisateur au film\n",
    "\n",
    "# e. Divisez les données en trois ensembles : training data (60 %), validation data (20 %) et test data (20 %).\n",
    "train_df, temp_df = train_test_split(ratings_df, test_size=0.4, random_state=42)\n",
    "validation_df, test_df = train_test_split(temp_df, test_size=0.5, random_state=42)\n",
    "\n",
    "# Vérification des tailles des ensembles\n",
    "print(f\"Training data size: {len(train_df)}\")\n",
    "print(f\"Validation data size: {len(validation_df)}\")\n",
    "print(f\"Test data size: {len(test_df)}\")\n",
    "\n"
   ]
  },
  {
   "cell_type": "markdown",
   "id": "07cec412-3ab3-46d3-826c-5e3b0535e964",
   "metadata": {},
   "source": [
    "#### 2. Création de la matrice utilisateur-film"
   ]
  },
  {
   "cell_type": "code",
   "execution_count": 20,
   "id": "fffc02b9-9702-46b1-8b51-e9dd558a5e80",
   "metadata": {},
   "outputs": [
    {
     "name": "stdout",
     "output_type": "stream",
     "text": [
      "movieId  1       2       3       4       5       6       7       8       \\\n",
      "userId                                                                    \n",
      "1           4.0     0.0     4.0     0.0     0.0     4.0     0.0     0.0   \n",
      "2           0.0     0.0     0.0     0.0     0.0     0.0     0.0     0.0   \n",
      "3           0.0     0.0     0.0     0.0     0.0     0.0     0.0     0.0   \n",
      "4           0.0     0.0     0.0     0.0     0.0     0.0     0.0     0.0   \n",
      "5           4.0     0.0     0.0     0.0     0.0     0.0     0.0     0.0   \n",
      "...         ...     ...     ...     ...     ...     ...     ...     ...   \n",
      "606         2.5     0.0     0.0     0.0     0.0     0.0     2.5     0.0   \n",
      "607         4.0     0.0     0.0     0.0     0.0     0.0     0.0     0.0   \n",
      "608         2.5     2.0     2.0     0.0     0.0     0.0     0.0     0.0   \n",
      "609         3.0     0.0     0.0     0.0     0.0     0.0     0.0     0.0   \n",
      "610         5.0     0.0     0.0     0.0     0.0     5.0     0.0     0.0   \n",
      "\n",
      "movieId  9       10      ...  193565  193567  193571  193573  193579  193581  \\\n",
      "userId                   ...                                                   \n",
      "1           0.0     0.0  ...     0.0     0.0     0.0     0.0     0.0     0.0   \n",
      "2           0.0     0.0  ...     0.0     0.0     0.0     0.0     0.0     0.0   \n",
      "3           0.0     0.0  ...     0.0     0.0     0.0     0.0     0.0     0.0   \n",
      "4           0.0     0.0  ...     0.0     0.0     0.0     0.0     0.0     0.0   \n",
      "5           0.0     0.0  ...     0.0     0.0     0.0     0.0     0.0     0.0   \n",
      "...         ...     ...  ...     ...     ...     ...     ...     ...     ...   \n",
      "606         0.0     0.0  ...     0.0     0.0     0.0     0.0     0.0     0.0   \n",
      "607         0.0     0.0  ...     0.0     0.0     0.0     0.0     0.0     0.0   \n",
      "608         0.0     4.0  ...     0.0     0.0     0.0     0.0     0.0     0.0   \n",
      "609         0.0     4.0  ...     0.0     0.0     0.0     0.0     0.0     0.0   \n",
      "610         0.0     0.0  ...     0.0     0.0     0.0     0.0     0.0     0.0   \n",
      "\n",
      "movieId  193583  193585  193587  193609  \n",
      "userId                                   \n",
      "1           0.0     0.0     0.0     0.0  \n",
      "2           0.0     0.0     0.0     0.0  \n",
      "3           0.0     0.0     0.0     0.0  \n",
      "4           0.0     0.0     0.0     0.0  \n",
      "5           0.0     0.0     0.0     0.0  \n",
      "...         ...     ...     ...     ...  \n",
      "606         0.0     0.0     0.0     0.0  \n",
      "607         0.0     0.0     0.0     0.0  \n",
      "608         0.0     0.0     0.0     0.0  \n",
      "609         0.0     0.0     0.0     0.0  \n",
      "610         0.0     0.0     0.0     0.0  \n",
      "\n",
      "[610 rows x 9724 columns]\n"
     ]
    }
   ],
   "source": [
    "# a. Transformez le DataFrame en une matrice utilisateur-film en utilisant la méthode pivot de pandas :\n",
    "user_movie_matrix = ratings_df.pivot(index='userId', columns='movieId', values='rating')\n",
    "\n",
    "# b. Remplacez les valeurs manquantes dans la matrice par 0.\n",
    "user_movie_matrix = user_movie_matrix.fillna(0)\n",
    "\n",
    "# c. Affichez la matrice utilisateur-film obtenue.\n",
    "print(user_movie_matrix)\n"
   ]
  },
  {
   "cell_type": "markdown",
   "id": "66e5bda3-9b1a-4a47-af72-e827cbdd038b",
   "metadata": {},
   "source": [
    "## Partie 2 : Manipulation des matrices\n",
    "\n",
    "#### 3. Conversion en matrice sparse"
   ]
  },
  {
   "cell_type": "code",
   "execution_count": 25,
   "id": "84305110-786e-4d85-a4b7-695320949ee8",
   "metadata": {},
   "outputs": [],
   "source": [
    "import scipy.sparse as sp\n",
    "\n",
    "# a. Convertissez la matrice utilisateur-film en une matrice sparse en utilisant la classe csr_matrix de la bibliothèque scipy.\n",
    "user_movie_matrix_sparse = sp.csr_matrix(user_movie_matrix.values)"
   ]
  },
  {
   "cell_type": "markdown",
   "id": "a291a000-866a-4702-8a80-37a2981e2aaf",
   "metadata": {},
   "source": [
    "Pourquoi utiliser une matrice sparse dans ce contexte ?\n",
    "\n",
    "Dans le contexte des recommandations de films, la matrice utilisateur-film est généralement très creuse, c'est-à-dire qu'elle contient beaucoup de zéros. Utiliser une matrice sparse permet de stocker et de manipuler cette matrice de manière plus efficace en termes de mémoire et de performance. Les matrices sparse ne stockent que les éléments non nuls, ce qui réduit considérablement la consommation de mémoire et accélère les opérations mathématiques sur la matrice."
   ]
  },
  {
   "cell_type": "markdown",
   "id": "9620958f-ec0a-4de5-980a-72bf3482e187",
   "metadata": {},
   "source": [
    "#### 4. Décomposition SVD"
   ]
  },
  {
   "cell_type": "code",
   "execution_count": 29,
   "id": "8962f20e-c42f-4a30-807e-9f7ffbaf9c87",
   "metadata": {},
   "outputs": [
    {
     "name": "stdout",
     "output_type": "stream",
     "text": [
      "Dimensions de U: (610, 20)\n",
      "Dimensions de σ: (20,)\n",
      "Dimensions de V^T: (20, 9724)\n"
     ]
    }
   ],
   "source": [
    "from scipy.sparse.linalg import svds\n",
    "\n",
    "# a. Effectuez une décomposition en valeurs singulières (SVD) sur la matrice sparse avec k = 20.\n",
    "k = 20\n",
    "U, sigma, VT = svds(user_movie_matrix_sparse, k=k)\n",
    "\n",
    "# b. Affichez les dimensions des matrices résultantes : U, σ, et V^T.\n",
    "print(f\"Dimensions de U: {U.shape}\")\n",
    "print(f\"Dimensions de σ: {sigma.shape}\")\n",
    "print(f\"Dimensions de V^T: {VT.shape}\")"
   ]
  },
  {
   "cell_type": "markdown",
   "id": "7cc88e8d-fb2a-46d8-964a-9e7f5c551cdd",
   "metadata": {},
   "source": [
    "Explication\n",
    "\n",
    "Rôle de chaque matrice dans le cadre d’un système de recommandation :\n",
    "\n",
    "- **U** : La matrice \\( U \\) contient les vecteurs latents des utilisateurs. Chaque ligne de \\( U \\) représente un utilisateur dans un espace de dimension réduite (k dimensions). Ces vecteurs capturent les préférences des utilisateurs. En d'autres termes, chaque utilisateur est représenté par un vecteur de k dimensions qui résume ses goûts et ses préférences.\n",
    "\n",
    "- **σ** : La matrice \\( \\sigma \\) (ou sigma) est une matrice diagonale contenant les valeurs singulières. Ces valeurs indiquent l'importance de chaque dimension latente. Plus une valeur singulière est grande, plus la dimension correspondante est importante pour expliquer les données. Les valeurs singulières permettent de pondérer l'importance des dimensions latentes dans la reconstruction de la matrice utilisateur-film.\n",
    "\n",
    "- **V^T** : La matrice \\( V^T \\) contient les vecteurs latents des films. Chaque colonne de \\( V^T \\) représente un film dans un espace de dimension réduite (k dimensions). Ces vecteurs capturent les caractéristiques des films. En d'autres termes, chaque film est représenté par un vecteur de k dimensions qui résume ses caractéristiques et ses attributs.\n",
    "\n",
    "En utilisant ces matrices, un système de recommandation peut prédire les notes que les utilisateurs donneraient à des films qu'ils n'ont pas encore vus, en projetant les utilisateurs et les films dans un espace latent commun et en calculant les similarités entre eux.\n"
   ]
  },
  {
   "cell_type": "markdown",
   "id": "e321f233-397f-447c-a23f-3d8683a5a2e8",
   "metadata": {},
   "source": [
    "#### 5. Reconstruction de la matrice"
   ]
  },
  {
   "cell_type": "code",
   "execution_count": 34,
   "id": "3edfb3b4-ce3e-4820-b6c8-f08719f1c359",
   "metadata": {},
   "outputs": [
    {
     "name": "stdout",
     "output_type": "stream",
     "text": [
      "movieId    1         2         3         4         5         6         7       \\\n",
      "userId                                                                          \n",
      "1        2.290336  1.460203  1.033507 -0.061334 -0.002275  1.243261  0.029650   \n",
      "2        0.038570  0.015272  0.016968  0.002944  0.019201 -0.005821 -0.025436   \n",
      "3       -0.015220  0.049067  0.047202 -0.004936 -0.035349  0.052758 -0.012911   \n",
      "4        2.238621  0.060011  0.039384  0.066455  0.221806  0.487591  0.318594   \n",
      "5        1.358363  0.970071  0.340939  0.121053  0.479936  0.628346  0.504583   \n",
      "...           ...       ...       ...       ...       ...       ...       ...   \n",
      "606     -0.617336  0.556016 -0.374855  0.162583 -0.155438 -1.403045  2.364098   \n",
      "607      2.056401  1.216670  0.593186 -0.006625 -0.020369  1.678307  0.261799   \n",
      "608      2.369716  1.838958  1.577564 -0.131902  0.362084  3.628608  0.248347   \n",
      "609      0.809741  0.651456  0.297184  0.081167  0.334388  0.577311  0.362697   \n",
      "610      5.175515  0.409812 -0.669749  0.018489 -0.138978  4.568723 -0.220228   \n",
      "\n",
      "movieId    8         9         10      ...    193565    193567    193571  \\\n",
      "userId                                 ...                                 \n",
      "1        0.056161  0.036220  1.442856  ... -0.008584 -0.007358 -0.009810   \n",
      "2        0.000918  0.010531 -0.117149  ...  0.010662  0.009139  0.012186   \n",
      "3        0.010422 -0.002532 -0.014094  ...  0.000029  0.000025  0.000033   \n",
      "4       -0.057422  0.016371  0.234273  ...  0.002029  0.001739  0.002319   \n",
      "5        0.136293  0.040721  1.122003  ...  0.000348  0.000299  0.000398   \n",
      "...           ...       ...       ...  ...       ...       ...       ...   \n",
      "606     -0.205127 -0.444244  0.380738  ... -0.046865 -0.040170 -0.053560   \n",
      "607      0.060570  0.025766  1.289120  ... -0.012653 -0.010845 -0.014460   \n",
      "608      0.278704  0.125466  3.895638  ... -0.043875 -0.037607 -0.050143   \n",
      "609      0.091491  0.067186  0.940384  ...  0.000254  0.000217  0.000290   \n",
      "610      0.087694 -0.188245 -0.212086  ... -0.007446 -0.006382 -0.008510   \n",
      "\n",
      "movieId    193573    193579    193581    193583    193585    193587    193609  \n",
      "userId                                                                         \n",
      "1       -0.009810 -0.008584 -0.009810 -0.008584 -0.008584 -0.008584 -0.038606  \n",
      "2        0.012186  0.010662  0.012186  0.010662  0.010662  0.010662  0.015610  \n",
      "3        0.000033  0.000029  0.000033  0.000029  0.000029  0.000029 -0.002412  \n",
      "4        0.002319  0.002029  0.002319  0.002029  0.002029  0.002029 -0.007359  \n",
      "5        0.000398  0.000348  0.000398  0.000348  0.000348  0.000348  0.001611  \n",
      "...           ...       ...       ...       ...       ...       ...       ...  \n",
      "606     -0.053560 -0.046865 -0.053560 -0.046865 -0.046865 -0.046865 -0.077927  \n",
      "607     -0.014460 -0.012653 -0.014460 -0.012653 -0.012653 -0.012653 -0.030033  \n",
      "608     -0.050143 -0.043875 -0.050143 -0.043875 -0.043875 -0.043875  0.005026  \n",
      "609      0.000290  0.000254  0.000290  0.000254  0.000254  0.000254  0.001664  \n",
      "610     -0.008510 -0.007446 -0.008510 -0.007446 -0.007446 -0.007446  0.042927  \n",
      "\n",
      "[610 rows x 9724 columns]\n"
     ]
    }
   ],
   "source": [
    "import numpy as np\n",
    "import pandas as pd\n",
    "\n",
    "# a. Transformez le vecteur σ en une matrice diagonale.\n",
    "sigma_matrix = np.diag(sigma)\n",
    "\n",
    "# b. Reconstituez la matrice utilisateur-film approximée en utilisant la formule :\n",
    "# predicted_ratings = U · σ · V^T\n",
    "predicted_ratings = np.dot(np.dot(U, sigma_matrix), VT)\n",
    "\n",
    "# c. Affichez la matrice reconstituée sous forme de DataFrame pandas.\n",
    "predicted_ratings_df = pd.DataFrame(predicted_ratings, index=user_movie_matrix.index, columns=user_movie_matrix.columns)\n",
    "print(predicted_ratings_df)\n"
   ]
  },
  {
   "cell_type": "markdown",
   "id": "01bccd5a-60a4-4758-a689-e88adcaaa83a",
   "metadata": {},
   "source": [
    "## Partie 3 : Système de recommandation\n",
    "\n",
    "#### 6. Implémentation d’une fonction de recommandation"
   ]
  },
  {
   "cell_type": "code",
   "execution_count": 40,
   "id": "3e5a854b-0cff-4b24-be34-efd357627a81",
   "metadata": {},
   "outputs": [
    {
     "name": "stdout",
     "output_type": "stream",
     "text": [
      "{589: 3.931090028958753, 1200: 3.725028597671198, 2762: 3.334133498541925, 1968: 3.317303918598695, 1036: 3.160154774045102}\n"
     ]
    }
   ],
   "source": [
    "def recommend_movies(user_id, predicted_ratings_df, ratings_df, num_recommendations=5):\n",
    "    \"\"\"\n",
    "    Recommande des films à un utilisateur en fonction des prédictions de la matrice utilisateur-film.\n",
    "\n",
    "    Paramètres :\n",
    "    - user_id : l’ID de l’utilisateur pour lequel recommander des films.\n",
    "    - predicted_ratings_df : la matrice utilisateur-film prédite.\n",
    "    - ratings_df : le DataFrame original contenant les notes.\n",
    "    - num_recommendations (optionnel) : le nombre de recommandations à retourner (par défaut : 5).\n",
    "\n",
    "    Retourne :\n",
    "    - Une liste de tuples contenant les ID des films recommandés et leurs notes prédites.\n",
    "    \"\"\"\n",
    "    # Identifier les films déjà notés par l’utilisateur\n",
    "    rated_movies = ratings_df[ratings_df['userId'] == user_id]['movieId']\n",
    "\n",
    "    # Trier les prédictions des films non notés dans l’ordre décroissant\n",
    "    user_predictions = predicted_ratings_df.loc[user_id].drop(rated_movies)\n",
    "    sorted_predictions = user_predictions.sort_values(ascending=False)\n",
    "\n",
    "    # Retourner les num_recommendations meilleures recommandations\n",
    "    top_recommendations = sorted_predictions.head(num_recommendations)\n",
    "\n",
    "    return top_recommendations.to_dict()\n",
    "\n",
    "# Exemple d'utilisation de la fonction\n",
    "user_id = 1  # Remplacez par l'ID de l'utilisateur pour lequel vous voulez des recommandations\n",
    "recommendations = recommend_movies(user_id, predicted_ratings_df, ratings_df)\n",
    "print(recommendations)\n"
   ]
  },
  {
   "cell_type": "markdown",
   "id": "a9f16204-9a63-4226-95f7-4e25fb4958a1",
   "metadata": {},
   "source": [
    "#### 7. Test du système de recommandation"
   ]
  },
  {
   "cell_type": "code",
   "execution_count": 43,
   "id": "8edc866c-cb6c-4ad2-b358-7aa4950e501b",
   "metadata": {},
   "outputs": [
    {
     "name": "stdout",
     "output_type": "stream",
     "text": [
      "Recommandations pour l'utilisateur 1:\n",
      "Film ID: 589, Note prédite: 3.93\n",
      "Film ID: 1200, Note prédite: 3.73\n",
      "Film ID: 2762, Note prédite: 3.33\n",
      "Film ID: 1968, Note prédite: 3.32\n",
      "Film ID: 1036, Note prédite: 3.16\n"
     ]
    }
   ],
   "source": [
    "# a. Testez la fonction de recommandation pour un utilisateur aléatoire ou spécifique (par exemple, user_id = 1).\n",
    "user_id = 1  # Remplacez par l'ID de l'utilisateur pour lequel vous voulez des recommandations\n",
    "recommendations = recommend_movies(user_id, predicted_ratings_df, ratings_df)\n",
    "\n",
    "# b. Affichez les films recommandés et expliquez les résultats obtenus.\n",
    "print(f\"Recommandations pour l'utilisateur {user_id}:\")\n",
    "for movie_id, predicted_rating in recommendations.items():\n",
    "    print(f\"Film ID: {movie_id}, Note prédite: {predicted_rating:.2f}\")"
   ]
  },
  {
   "cell_type": "markdown",
   "id": "4a5d0185-6183-4129-b525-09535256bcbd",
   "metadata": {},
   "source": [
    "Explication des résultats obtenus\n",
    "\n",
    "Recommandations pour l'utilisateur\n",
    "\n",
    "La fonction `recommend_movies` retourne une liste de films recommandés pour l'utilisateur spécifié par `user_id`. Chaque recommandation est accompagnée d'une note prédite, qui est une estimation de la note que l'utilisateur donnerait à ce film.\n",
    "\n",
    "Films recommandés\n",
    "\n",
    "Les films recommandés sont ceux qui ont les notes prédites les plus élevées parmi les films que l'utilisateur n'a pas encore notés. Cela signifie que ces films sont susceptibles de plaire à l'utilisateur en se basant sur les préférences latentes capturées par la décomposition SVD.\n",
    "\n",
    "Utilisation de la matrice utilisateur-film prédite\n",
    "\n",
    "La fonction utilise la matrice utilisateur-film prédite pour identifier les films qui sont susceptibles de plaire à l'utilisateur. Cette matrice contient des prédictions de notes pour tous les utilisateurs et tous les films, même ceux qui n'ont pas encore été notés par l'utilisateur. En se basant sur ces prédictions, la fonction peut recommander des films qui correspondent aux préférences de l'utilisateur.\n",
    "\n",
    "Préférences latentes\n",
    "\n",
    "Les préférences latentes capturées par la décomposition SVD permettent de représenter les utilisateurs et les films dans un espace de dimension réduite. Cela permet de calculer des similarités entre les utilisateurs et les films, et de faire des recommandations basées sur ces similarités.\n",
    "\n",
    "En résumé, la fonction de recommandation utilise les prédictions de la matrice utilisateur-film pour identifier les films qui sont susceptibles de plaire à l'utilisateur, en se basant sur les préférences latentes capturées par la décomposition SVD. Les films recommandés sont ceux qui ont les notes prédites les plus élevées parmi les films que l'utilisateur n'a pas encore notés.\n"
   ]
  },
  {
   "cell_type": "code",
   "execution_count": 47,
   "id": "91bafc62-5f25-4a4a-abd8-7ea5699f24df",
   "metadata": {},
   "outputs": [
    {
     "name": "stdout",
     "output_type": "stream",
     "text": [
      "RMSE du modèle : 2.37\n"
     ]
    }
   ],
   "source": [
    "import numpy as np\n",
    "from sklearn.metrics import mean_squared_error\n",
    "\n",
    "def calculate_rmse(predicted_ratings_df, test_df):\n",
    "    \"\"\"\n",
    "    Calcule l'erreur quadratique moyenne (RMSE) entre les prédictions et les notes réelles.\n",
    "\n",
    "    Paramètres :\n",
    "    - predicted_ratings_df : la matrice utilisateur-film prédite.\n",
    "    - test_df : le DataFrame contenant les notes réelles de l'ensemble de test.\n",
    "\n",
    "    Retourne :\n",
    "    - La valeur RMSE.\n",
    "    \"\"\"\n",
    "    # Filtrez les données pour ne comparer que les films réellement notés dans l’ensemble de test\n",
    "    test_user_ids = test_df['userId'].values\n",
    "    test_movie_ids = test_df['movieId'].values\n",
    "    test_ratings = test_df['rating'].values\n",
    "\n",
    "    predicted_ratings = []\n",
    "    for user_id, movie_id in zip(test_user_ids, test_movie_ids):\n",
    "        predicted_rating = predicted_ratings_df.loc[user_id, movie_id]\n",
    "        predicted_ratings.append(predicted_rating)\n",
    "\n",
    "    # Calculez la RMSE\n",
    "    rmse = np.sqrt(mean_squared_error(test_ratings, predicted_ratings))\n",
    "    return rmse\n",
    "\n",
    "# Calculez et affichez la valeur RMSE du modèle\n",
    "rmse = calculate_rmse(predicted_ratings_df, test_df)\n",
    "print(f\"RMSE du modèle : {rmse:.2f}\")\n"
   ]
  },
  {
   "cell_type": "markdown",
   "id": "343a0c1e-5b6b-4944-9340-19a01adb0bc0",
   "metadata": {},
   "source": [
    "# Analyse des résultats\n",
    "\n",
    "## Interprétation de la valeur de RMSE\n",
    "\n",
    "La valeur de RMSE (Root Mean Squared Error) obtenue nous donne une idée de la qualité des prédictions du modèle. Plus la valeur de RMSE est faible, meilleures sont les prédictions. Une RMSE élevée indique que les prédictions sont loin des valeurs réelles, ce qui signifie que le modèle a du mal à capturer les préférences des utilisateurs.\n",
    "\n",
    "## Pistes pour améliorer les performances du modèle\n",
    "\n",
    "1. **Augmenter la dimension latente (k)** : Utiliser une valeur plus élevée pour \\( k \\) dans la décomposition SVD peut permettre de capturer plus de détails dans les préférences des utilisateurs et les caractéristiques des films.\n",
    "\n",
    "2. **Utiliser des techniques de régularisation** : Ajouter une régularisation à la décomposition SVD peut aider à éviter le surapprentissage et améliorer la généralisation du modèle.\n",
    "\n",
    "3. **Incorporer des informations supplémentaires** : Intégrer des informations supplémentaires sur les utilisateurs et les films (comme les genres de films, les profils des utilisateurs, etc.) peut améliorer la précision des prédictions.\n",
    "\n",
    "4. **Utiliser des modèles plus avancés** : Explorer des modèles plus avancés comme les réseaux de neurones ou les modèles de factorisation matricielle avec des contraintes supplémentaires peut améliorer les performances.\n",
    "\n",
    "5. **Traitement des valeurs aberrantes** : Identifier et traiter les valeurs aberrantes dans les données peut améliorer la qualité des prédictions.\n",
    "\n",
    "6. **Validation croisée** : Utiliser des techniques de validation croisée pour mieux évaluer les performances du modèle et ajuster les hyperparamètres en conséquence.\n"
   ]
  }
 ],
 "metadata": {
  "kernelspec": {
   "display_name": "Python 3 (ipykernel)",
   "language": "python",
   "name": "python3"
  },
  "language_info": {
   "codemirror_mode": {
    "name": "ipython",
    "version": 3
   },
   "file_extension": ".py",
   "mimetype": "text/x-python",
   "name": "python",
   "nbconvert_exporter": "python",
   "pygments_lexer": "ipython3",
   "version": "3.12.7"
  }
 },
 "nbformat": 4,
 "nbformat_minor": 5
}
